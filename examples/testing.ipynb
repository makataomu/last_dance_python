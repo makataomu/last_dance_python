{
 "cells": [
  {
   "cell_type": "markdown",
   "metadata": {},
   "source": [
    "This notebook presents our library to solve TSP problems with visualization for better understanding of how algorithms work. "
   ]
  },
  {
   "cell_type": "markdown",
   "metadata": {},
   "source": [
    "# Task holder "
   ]
  },
  {
   "cell_type": "code",
   "execution_count": 1,
   "metadata": {},
   "outputs": [
    {
     "name": "stdout",
     "output_type": "stream",
     "text": [
      "TSP Name: dj38\n",
      "Dimension: 38\n",
      "First city coords: (11003.6111, 42102.5)\n",
      "Distance between city 0 and city 1: 290.99301545433866\n",
      "Total distance of the trivial route: 17099.017153650082\n"
     ]
    },
    {
     "name": "stderr",
     "output_type": "stream",
     "text": [
      "<>:7: SyntaxWarning: invalid escape sequence '\\d'\n",
      "<>:7: SyntaxWarning: invalid escape sequence '\\d'\n",
      "C:\\Users\\77019\\AppData\\Local\\Temp\\ipykernel_3552\\2516636524.py:7: SyntaxWarning: invalid escape sequence '\\d'\n",
      "  instance = TSPInstance.from_file('..\\data\\dj38.tsp')\n"
     ]
    }
   ],
   "source": [
    "import sys\n",
    "sys.path.append(\"..\") \n",
    "\n",
    "from tsp_solvers.core.task_holder import TSPInstance\n",
    "\n",
    "# Load the TSP instance from the file\n",
    "instance = TSPInstance.from_file('..\\data\\dj38.tsp')\n",
    "\n",
    "# Print some basic info\n",
    "print(\"TSP Name:\", instance.name)\n",
    "print(\"Dimension:\", instance.dimension)\n",
    "print(\"First city coords:\", instance.coords[0])\n",
    "\n",
    "# Compute distance between city 0 and 1\n",
    "d = instance.distance(0, 1)\n",
    "print(\"Distance between city 0 and city 1:\", d)\n",
    "\n",
    "\n",
    "# If you have a route, for example a trivial route:\n",
    "route = list(range(instance.dimension))\n",
    "print(\"Total distance of the trivial route:\", instance.total_distance(route))\n"
   ]
  },
  {
   "cell_type": "markdown",
   "metadata": {},
   "source": [
    "# Simulated Annealing"
   ]
  },
  {
   "cell_type": "code",
   "execution_count": 2,
   "metadata": {},
   "outputs": [],
   "source": [
    "import tkinter as tk\n",
    "from visualization import SimulatedAnnealingApp, AntColonyApp, ParticleSwormApp\n",
    "from tsp_solvers.metaheuristics import SimulatedAnnealing, AntColony, ParticleSwarmOptimization\n"
   ]
  },
  {
   "cell_type": "code",
   "execution_count": 3,
   "metadata": {},
   "outputs": [],
   "source": [
    "instance = TSPInstance.from_file(\"../data/dj38.tsp\", False)\n"
   ]
  },
  {
   "cell_type": "code",
   "execution_count": 4,
   "metadata": {},
   "outputs": [
    {
     "data": {
      "text/plain": [
       "6640.0"
      ]
     },
     "execution_count": 4,
     "metadata": {},
     "output_type": "execute_result"
    }
   ],
   "source": [
    "sa_solver = SimulatedAnnealing()\n",
    "best_path, best_distance = sa_solver.solve(instance)\n",
    "best_distance"
   ]
  },
  {
   "cell_type": "code",
   "execution_count": 6,
   "metadata": {},
   "outputs": [],
   "source": [
    "root = tk.Tk()\n",
    "# instance = TSPInstance.from_file(\"../data/qa194.tsp\", False) # takes a lot of time\n",
    "app = SimulatedAnnealingApp(root, instance)\n",
    "root.mainloop()"
   ]
  },
  {
   "cell_type": "markdown",
   "metadata": {},
   "source": [
    "# Ant Colony"
   ]
  },
  {
   "cell_type": "code",
   "execution_count": 4,
   "metadata": {},
   "outputs": [],
   "source": [
    "ant_colony_solver = AntColony(verbose=True)"
   ]
  },
  {
   "cell_type": "code",
   "execution_count": 5,
   "metadata": {},
   "outputs": [
    {
     "name": "stdout",
     "output_type": "stream",
     "text": [
      "Pheromones have been reset and enforced on the best path.\n",
      "Pheromones have been reset and enforced on the best path.\n",
      "Pheromones have been reset and enforced on the best path.\n",
      "Pheromones have been reset and enforced on the best path.\n",
      "Pheromones have been reset and enforced on the best path.\n",
      "Pheromones have been reset and enforced on the best path.\n",
      "Pheromones have been reset and enforced on the best path.\n",
      "Pheromones have been reset and enforced on the best path.\n",
      "Pheromones have been reset and enforced on the best path.\n",
      "Pheromones have been reset and enforced on the best path.\n",
      "Pheromones have been reset and enforced on the best path.\n",
      "Pheromones have been reset and enforced on the best path.\n",
      "Pheromones have been reset and enforced on the best path.\n",
      "Pheromones have been reset and enforced on the best path.\n",
      "Pheromones have been reset and enforced on the best path.\n",
      "Pheromones have been reset and enforced on the best path.\n",
      "Pheromones have been reset and enforced on the best path.\n",
      "Pheromones have been reset and enforced on the best path.\n",
      "Pheromones have been reset and enforced on the best path.\n"
     ]
    }
   ],
   "source": [
    "best_path, best_distance = ant_colony_solver.solve(instance)\n"
   ]
  },
  {
   "cell_type": "code",
   "execution_count": 6,
   "metadata": {},
   "outputs": [],
   "source": [
    "root = tk.Tk()\n",
    "app = AntColonyApp(root, instance, ant_colony_solver)\n",
    "root.mainloop()"
   ]
  },
  {
   "cell_type": "markdown",
   "metadata": {},
   "source": [
    "# Particle Sworm Optimization"
   ]
  },
  {
   "cell_type": "code",
   "execution_count": 4,
   "metadata": {},
   "outputs": [
    {
     "name": "stderr",
     "output_type": "stream",
     "text": [
      "<>:2: SyntaxWarning: invalid escape sequence '\\d'\n",
      "<>:2: SyntaxWarning: invalid escape sequence '\\d'\n",
      "C:\\Users\\77019\\AppData\\Local\\Temp\\ipykernel_1352\\3255764742.py:2: SyntaxWarning: invalid escape sequence '\\d'\n",
      "  tsp_instance = TSPInstance.from_file('..\\data\\ci10.tsp', False)\n",
      "C:\\Users\\77019\\AppData\\Local\\Temp\\ipykernel_1352\\3255764742.py:2: SyntaxWarning: invalid escape sequence '\\d'\n",
      "  tsp_instance = TSPInstance.from_file('..\\data\\ci10.tsp', False)\n"
     ]
    },
    {
     "ename": "TclError",
     "evalue": "invalid command name \".!canvas\"",
     "output_type": "error",
     "traceback": [
      "\u001b[1;31m---------------------------------------------------------------------------\u001b[0m",
      "\u001b[1;31mTclError\u001b[0m                                  Traceback (most recent call last)",
      "Cell \u001b[1;32mIn[4], line 6\u001b[0m\n\u001b[0;32m      4\u001b[0m pso_solver \u001b[38;5;241m=\u001b[39m ParticleSwarmOptimization(num_particles\u001b[38;5;241m=\u001b[39m\u001b[38;5;241m200\u001b[39m, max_iterations\u001b[38;5;241m=\u001b[39m\u001b[38;5;241m20000\u001b[39m)\n\u001b[0;32m      5\u001b[0m visualizer \u001b[38;5;241m=\u001b[39m ParticleSwormApp(tsp_instance, pso_solver)\n\u001b[1;32m----> 6\u001b[0m \u001b[43mvisualizer\u001b[49m\u001b[38;5;241;43m.\u001b[39;49m\u001b[43msolve_and_visualize\u001b[49m\u001b[43m(\u001b[49m\u001b[43m)\u001b[49m\n",
      "File \u001b[1;32mc:\\Users\\77019\\Desktop\\kbtu\\5 sem\\last_dance\\examples\\..\\visualization\\pso_app.py:81\u001b[0m, in \u001b[0;36mParticleSwormApp.solve_and_visualize\u001b[1;34m(self)\u001b[0m\n\u001b[0;32m     78\u001b[0m \u001b[38;5;28mself\u001b[39m\u001b[38;5;241m.\u001b[39mdraw_cities()\n\u001b[0;32m     80\u001b[0m \u001b[38;5;66;03m# Solve the TSP with visualization\u001b[39;00m\n\u001b[1;32m---> 81\u001b[0m best_solution, best_distance \u001b[38;5;241m=\u001b[39m \u001b[38;5;28;43mself\u001b[39;49m\u001b[38;5;241;43m.\u001b[39;49m\u001b[43msolver\u001b[49m\u001b[38;5;241;43m.\u001b[39;49m\u001b[43msolve\u001b[49m\u001b[43m(\u001b[49m\n\u001b[0;32m     82\u001b[0m \u001b[43m    \u001b[49m\u001b[38;5;28;43mself\u001b[39;49m\u001b[38;5;241;43m.\u001b[39;49m\u001b[43minstance\u001b[49m\u001b[43m,\u001b[49m\n\u001b[0;32m     83\u001b[0m \u001b[43m    \u001b[49m\u001b[43mon_iteration_callback\u001b[49m\u001b[38;5;241;43m=\u001b[39;49m\u001b[43miteration_callback\u001b[49m\u001b[43m,\u001b[49m\n\u001b[0;32m     84\u001b[0m \u001b[43m    \u001b[49m\u001b[43mcallback_interval\u001b[49m\u001b[38;5;241;43m=\u001b[39;49m\u001b[38;5;241;43m1\u001b[39;49m\n\u001b[0;32m     85\u001b[0m \u001b[43m\u001b[49m\u001b[43m)\u001b[49m\n\u001b[0;32m     87\u001b[0m \u001b[38;5;66;03m# Display the final solution\u001b[39;00m\n\u001b[0;32m     88\u001b[0m \u001b[38;5;28mself\u001b[39m\u001b[38;5;241m.\u001b[39mupdate_visualization(\u001b[38;5;124m\"\u001b[39m\u001b[38;5;124mFinal\u001b[39m\u001b[38;5;124m\"\u001b[39m, best_solution, best_distance)\n",
      "File \u001b[1;32mc:\\Users\\77019\\Desktop\\kbtu\\5 sem\\last_dance\\examples\\..\\tsp_solvers\\metaheuristics\\particle_sworm.py:144\u001b[0m, in \u001b[0;36mParticleSwarmOptimization.solve\u001b[1;34m(self, instance, on_iteration_callback, callback_interval)\u001b[0m\n\u001b[0;32m    142\u001b[0m     \u001b[38;5;66;03m# Call the callback function to report progress\u001b[39;00m\n\u001b[0;32m    143\u001b[0m     \u001b[38;5;28;01mif\u001b[39;00m on_iteration_callback \u001b[38;5;129;01mand\u001b[39;00m iteration \u001b[38;5;241m%\u001b[39m callback_interval \u001b[38;5;241m==\u001b[39m \u001b[38;5;241m0\u001b[39m:\n\u001b[1;32m--> 144\u001b[0m         \u001b[43mon_iteration_callback\u001b[49m\u001b[43m(\u001b[49m\u001b[43miteration\u001b[49m\u001b[43m,\u001b[49m\u001b[43m \u001b[49m\u001b[43mg_best_position\u001b[49m\u001b[43m,\u001b[49m\u001b[43m \u001b[49m\u001b[43mg_best_score\u001b[49m\u001b[43m)\u001b[49m\n\u001b[0;32m    146\u001b[0m     iteration \u001b[38;5;241m+\u001b[39m\u001b[38;5;241m=\u001b[39m \u001b[38;5;241m1\u001b[39m\n\u001b[0;32m    148\u001b[0m \u001b[38;5;66;03m# Final callback after the algorithm finishes\u001b[39;00m\n",
      "File \u001b[1;32mc:\\Users\\77019\\Desktop\\kbtu\\5 sem\\last_dance\\examples\\..\\visualization\\pso_app.py:75\u001b[0m, in \u001b[0;36mParticleSwormApp.solve_and_visualize.<locals>.iteration_callback\u001b[1;34m(iteration, solution, distance)\u001b[0m\n\u001b[0;32m     73\u001b[0m \u001b[38;5;28;01mdef\u001b[39;00m \u001b[38;5;21miteration_callback\u001b[39m(iteration, solution, distance):\n\u001b[0;32m     74\u001b[0m     \u001b[38;5;28;01mif\u001b[39;00m iteration \u001b[38;5;241m%\u001b[39m \u001b[38;5;241m100\u001b[39m \u001b[38;5;241m==\u001b[39m \u001b[38;5;241m0\u001b[39m:  \u001b[38;5;66;03m# Update visualization every 100 iterations\u001b[39;00m\n\u001b[1;32m---> 75\u001b[0m         \u001b[38;5;28;43mself\u001b[39;49m\u001b[38;5;241;43m.\u001b[39;49m\u001b[43mupdate_visualization\u001b[49m\u001b[43m(\u001b[49m\u001b[43miteration\u001b[49m\u001b[43m,\u001b[49m\u001b[43m \u001b[49m\u001b[43msolution\u001b[49m\u001b[43m,\u001b[49m\u001b[43m \u001b[49m\u001b[43mdistance\u001b[49m\u001b[43m)\u001b[49m\n",
      "File \u001b[1;32mc:\\Users\\77019\\Desktop\\kbtu\\5 sem\\last_dance\\examples\\..\\visualization\\pso_app.py:62\u001b[0m, in \u001b[0;36mParticleSwormApp.update_visualization\u001b[1;34m(self, iteration, best_solution, best_distance)\u001b[0m\n\u001b[0;32m     60\u001b[0m \u001b[38;5;28;01mdef\u001b[39;00m \u001b[38;5;21mupdate_visualization\u001b[39m(\u001b[38;5;28mself\u001b[39m, iteration, best_solution, best_distance):\n\u001b[0;32m     61\u001b[0m \u001b[38;5;250m    \u001b[39m\u001b[38;5;124;03m\"\"\"Update the visualization for the current best solution.\"\"\"\u001b[39;00m\n\u001b[1;32m---> 62\u001b[0m     \u001b[38;5;28;43mself\u001b[39;49m\u001b[38;5;241;43m.\u001b[39;49m\u001b[43mcanvas\u001b[49m\u001b[38;5;241;43m.\u001b[39;49m\u001b[43mdelete\u001b[49m\u001b[43m(\u001b[49m\u001b[38;5;124;43m\"\u001b[39;49m\u001b[38;5;124;43miteration\u001b[39;49m\u001b[38;5;124;43m\"\u001b[39;49m\u001b[43m)\u001b[49m\n\u001b[0;32m     63\u001b[0m     \u001b[38;5;28mself\u001b[39m\u001b[38;5;241m.\u001b[39mdraw_route(best_solution)\n\u001b[0;32m     64\u001b[0m     \u001b[38;5;28mself\u001b[39m\u001b[38;5;241m.\u001b[39mcanvas\u001b[38;5;241m.\u001b[39mcreate_text(\n\u001b[0;32m     65\u001b[0m         \u001b[38;5;28mself\u001b[39m\u001b[38;5;241m.\u001b[39mcanvas_width \u001b[38;5;241m/\u001b[39m\u001b[38;5;241m/\u001b[39m \u001b[38;5;241m2\u001b[39m, \u001b[38;5;241m20\u001b[39m,\n\u001b[0;32m     66\u001b[0m         text\u001b[38;5;241m=\u001b[39m\u001b[38;5;124mf\u001b[39m\u001b[38;5;124m\"\u001b[39m\u001b[38;5;124mIteration: \u001b[39m\u001b[38;5;132;01m{\u001b[39;00miteration\u001b[38;5;132;01m}\u001b[39;00m\u001b[38;5;124m | Best Distance: \u001b[39m\u001b[38;5;132;01m{\u001b[39;00mbest_distance\u001b[38;5;132;01m:\u001b[39;00m\u001b[38;5;124m.2f\u001b[39m\u001b[38;5;132;01m}\u001b[39;00m\u001b[38;5;124m\"\u001b[39m,\n\u001b[0;32m     67\u001b[0m         fill\u001b[38;5;241m=\u001b[39m\u001b[38;5;124m\"\u001b[39m\u001b[38;5;124mblack\u001b[39m\u001b[38;5;124m\"\u001b[39m, font\u001b[38;5;241m=\u001b[39m(\u001b[38;5;124m\"\u001b[39m\u001b[38;5;124mArial\u001b[39m\u001b[38;5;124m\"\u001b[39m, \u001b[38;5;241m16\u001b[39m), tags\u001b[38;5;241m=\u001b[39m\u001b[38;5;124m\"\u001b[39m\u001b[38;5;124miteration\u001b[39m\u001b[38;5;124m\"\u001b[39m\n\u001b[0;32m     68\u001b[0m     )\n",
      "File \u001b[1;32mc:\\Users\\77019\\pyver\\py312\\Lib\\tkinter\\__init__.py:2894\u001b[0m, in \u001b[0;36mCanvas.delete\u001b[1;34m(self, *args)\u001b[0m\n\u001b[0;32m   2892\u001b[0m \u001b[38;5;28;01mdef\u001b[39;00m \u001b[38;5;21mdelete\u001b[39m(\u001b[38;5;28mself\u001b[39m, \u001b[38;5;241m*\u001b[39margs):\n\u001b[0;32m   2893\u001b[0m \u001b[38;5;250m    \u001b[39m\u001b[38;5;124;03m\"\"\"Delete items identified by all tag or ids contained in ARGS.\"\"\"\u001b[39;00m\n\u001b[1;32m-> 2894\u001b[0m     \u001b[38;5;28;43mself\u001b[39;49m\u001b[38;5;241;43m.\u001b[39;49m\u001b[43mtk\u001b[49m\u001b[38;5;241;43m.\u001b[39;49m\u001b[43mcall\u001b[49m\u001b[43m(\u001b[49m\u001b[43m(\u001b[49m\u001b[38;5;28;43mself\u001b[39;49m\u001b[38;5;241;43m.\u001b[39;49m\u001b[43m_w\u001b[49m\u001b[43m,\u001b[49m\u001b[43m \u001b[49m\u001b[38;5;124;43m'\u001b[39;49m\u001b[38;5;124;43mdelete\u001b[39;49m\u001b[38;5;124;43m'\u001b[39;49m\u001b[43m)\u001b[49m\u001b[43m \u001b[49m\u001b[38;5;241;43m+\u001b[39;49m\u001b[43m \u001b[49m\u001b[43margs\u001b[49m\u001b[43m)\u001b[49m\n",
      "\u001b[1;31mTclError\u001b[0m: invalid command name \".!canvas\""
     ]
    }
   ],
   "source": [
    "# tsp_instance = TSPInstance.from_file('..\\data\\dj38.tsp')\n",
    "tsp_instance = TSPInstance.from_file('..\\data\\ci10.tsp', False)\n",
    "# Initialize PSO solver\n",
    "pso_solver = ParticleSwarmOptimization(num_particles=200, max_iterations=20000)\n",
    "visualizer = ParticleSwormApp(tsp_instance, pso_solver)\n",
    "visualizer.solve_and_visualize()"
   ]
  }
 ],
 "metadata": {
  "kernelspec": {
   "display_name": "Python 3",
   "language": "python",
   "name": "python3"
  },
  "language_info": {
   "codemirror_mode": {
    "name": "ipython",
    "version": 3
   },
   "file_extension": ".py",
   "mimetype": "text/x-python",
   "name": "python",
   "nbconvert_exporter": "python",
   "pygments_lexer": "ipython3",
   "version": "3.12.1"
  }
 },
 "nbformat": 4,
 "nbformat_minor": 2
}
