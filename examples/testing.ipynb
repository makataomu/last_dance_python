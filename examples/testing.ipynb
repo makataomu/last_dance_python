{
 "cells": [
  {
   "cell_type": "code",
   "execution_count": 1,
   "metadata": {},
   "outputs": [
    {
     "name": "stdout",
     "output_type": "stream",
     "text": [
      "TSP Name: dj38\n",
      "Dimension: 38\n",
      "First city coords: (11003.6111, 42102.5)\n",
      "Distance between city 0 and city 1: 290.99301545433866\n",
      "Total distance of the trivial route: 17099.017153650082\n"
     ]
    },
    {
     "name": "stderr",
     "output_type": "stream",
     "text": [
      "<>:7: SyntaxWarning: invalid escape sequence '\\d'\n",
      "<>:7: SyntaxWarning: invalid escape sequence '\\d'\n",
      "C:\\Users\\77019\\AppData\\Local\\Temp\\ipykernel_21404\\1542942221.py:7: SyntaxWarning: invalid escape sequence '\\d'\n",
      "  instance = TSPInstance.from_file('..\\data\\dj38.tsp')\n"
     ]
    }
   ],
   "source": [
    "import sys\n",
    "sys.path.append(\"..\") \n",
    "\n",
    "from tsp_solvers.core.task_holder import TSPInstance\n",
    "\n",
    "# Load the TSP instance from the file\n",
    "instance = TSPInstance.from_file('..\\data\\dj38.tsp')\n",
    "\n",
    "# Print some basic info\n",
    "print(\"TSP Name:\", instance.name)\n",
    "print(\"Dimension:\", instance.dimension)\n",
    "print(\"First city coords:\", instance.coords[0])\n",
    "\n",
    "# Compute distance between city 0 and 1\n",
    "d = instance.distance(0, 1)\n",
    "print(\"Distance between city 0 and city 1:\", d)\n",
    "\n",
    "# If you have a route, for example a trivial route:\n",
    "route = list(range(instance.dimension))\n",
    "print(\"Total distance of the trivial route:\", instance.total_distance(route))\n"
   ]
  },
  {
   "cell_type": "code",
   "execution_count": null,
   "metadata": {},
   "outputs": [],
   "source": [
    "from tsp_solvers.core.task_holder import TSPInstance\n",
    "\n",
    "# Load instance\n",
    "instance = TSPInstance.from_file('..\\data\\dj38.tsp', float_dist=False)\n",
    "\n",
    "# Create a Simulated Annealing solver\n",
    "sa_solver = SimulatedAnnealing(initial_temp=1000, cooling_rate=0.999, stopping_temp=1e-8, max_iterations=100)\n",
    "\n",
    "# Solve the TSP instance\n",
    "best_solution, best_distance, distances = sa_solver.solve(instance)\n",
    "\n",
    "print(\"Best distance found:\", best_distance)\n",
    "print(\"Best solution (tour):\", best_solution)\n",
    "\n",
    "# If needed, you can visualize or process 'distances' in another script.\n"
   ]
  },
  {
   "cell_type": "code",
   "execution_count": 2,
   "metadata": {},
   "outputs": [
    {
     "name": "stdout",
     "output_type": "stream",
     "text": [
      "here\n",
      "Final best distance: 6659.431532931465\n",
      "Final best solution: [9, 13, 20, 28, 29, 31, 34, 36, 37, 32, 33, 35, 30, 26, 27, 23, 21, 24, 25, 22, 19, 14, 12, 15, 16, 17, 18, 10, 11, 8, 7, 6, 5, 4, 2, 3, 1, 0]\n"
     ]
    }
   ],
   "source": [
    "import tkinter as tk\n",
    "from visualization.sa_app import SimulatedAnnealingApp\n",
    "\n",
    "root = tk.Tk()\n",
    "instance = TSPInstance.from_file(\"../data/dj38.tsp\")\n",
    "app = SimulatedAnnealingApp(root, instance)\n",
    "root.mainloop()"
   ]
  },
  {
   "cell_type": "code",
   "execution_count": null,
   "metadata": {},
   "outputs": [],
   "source": []
  }
 ],
 "metadata": {
  "kernelspec": {
   "display_name": "Python 3",
   "language": "python",
   "name": "python3"
  },
  "language_info": {
   "codemirror_mode": {
    "name": "ipython",
    "version": 3
   },
   "file_extension": ".py",
   "mimetype": "text/x-python",
   "name": "python",
   "nbconvert_exporter": "python",
   "pygments_lexer": "ipython3",
   "version": "3.12.1"
  }
 },
 "nbformat": 4,
 "nbformat_minor": 2
}
