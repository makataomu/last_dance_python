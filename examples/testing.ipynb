{
 "cells": [
  {
   "cell_type": "code",
   "execution_count": 1,
   "metadata": {},
   "outputs": [
    {
     "name": "stdout",
     "output_type": "stream",
     "text": [
      "TSP Name: dj38\n",
      "Dimension: 38\n",
      "First city coords: (11003.6111, 42102.5)\n",
      "Distance between city 0 and city 1: 290.99301545433866\n",
      "Total distance of the trivial route: 17099.017153650082\n"
     ]
    },
    {
     "name": "stderr",
     "output_type": "stream",
     "text": [
      "<>:7: SyntaxWarning: invalid escape sequence '\\d'\n",
      "<>:7: SyntaxWarning: invalid escape sequence '\\d'\n",
      "C:\\Users\\77019\\AppData\\Local\\Temp\\ipykernel_19200\\1542942221.py:7: SyntaxWarning: invalid escape sequence '\\d'\n",
      "  instance = TSPInstance.from_file('..\\data\\dj38.tsp')\n"
     ]
    }
   ],
   "source": [
    "import sys\n",
    "sys.path.append(\"..\") \n",
    "\n",
    "from tsp_solvers.core.task_holder import TSPInstance\n",
    "\n",
    "# Load the TSP instance from the file\n",
    "instance = TSPInstance.from_file('..\\data\\dj38.tsp')\n",
    "\n",
    "# Print some basic info\n",
    "print(\"TSP Name:\", instance.name)\n",
    "print(\"Dimension:\", instance.dimension)\n",
    "print(\"First city coords:\", instance.coords[0])\n",
    "\n",
    "# Compute distance between city 0 and 1\n",
    "d = instance.distance(0, 1)\n",
    "print(\"Distance between city 0 and city 1:\", d)\n",
    "\n",
    "# If you have a route, for example a trivial route:\n",
    "route = list(range(instance.dimension))\n",
    "print(\"Total distance of the trivial route:\", instance.total_distance(route))\n"
   ]
  },
  {
   "cell_type": "code",
   "execution_count": 2,
   "metadata": {},
   "outputs": [],
   "source": [
    "import tkinter as tk\n",
    "from visualization.sa_app import SimulatedAnnealingApp\n",
    "\n",
    "root = tk.Tk()\n",
    "# instance = TSPInstance.from_file(\"../data/qa194.tsp\", False)\n",
    "instance = TSPInstance.from_file(\"../data/dj38.tsp\", False)\n",
    "app = SimulatedAnnealingApp(root, instance)\n",
    "root.mainloop()"
   ]
  },
  {
   "cell_type": "code",
   "execution_count": null,
   "metadata": {},
   "outputs": [],
   "source": []
  }
 ],
 "metadata": {
  "kernelspec": {
   "display_name": "Python 3",
   "language": "python",
   "name": "python3"
  },
  "language_info": {
   "codemirror_mode": {
    "name": "ipython",
    "version": 3
   },
   "file_extension": ".py",
   "mimetype": "text/x-python",
   "name": "python",
   "nbconvert_exporter": "python",
   "pygments_lexer": "ipython3",
   "version": "3.12.1"
  }
 },
 "nbformat": 4,
 "nbformat_minor": 2
}
